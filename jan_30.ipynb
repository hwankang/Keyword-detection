{
  "nbformat": 4,
  "nbformat_minor": 0,
  "metadata": {
    "colab": {
      "name": "jan 30.ipynb",
      "private_outputs": true,
      "provenance": [],
      "authorship_tag": "ABX9TyNqzPanw+cs0mIRt42JzjR3",
      "include_colab_link": true
    },
    "kernelspec": {
      "name": "python3",
      "display_name": "Python 3"
    }
  },
  "cells": [
    {
      "cell_type": "markdown",
      "metadata": {
        "id": "view-in-github",
        "colab_type": "text"
      },
      "source": [
        "<a href=\"https://colab.research.google.com/github/hwankang/Keyword-detection/blob/master/jan_30.ipynb\" target=\"_parent\"><img src=\"https://colab.research.google.com/assets/colab-badge.svg\" alt=\"Open In Colab\"/></a>"
      ]
    },
    {
      "cell_type": "code",
      "metadata": {
        "id": "CPQvGjNWORnY"
      },
      "source": [
        "def str2bool(v): \r\n",
        "    if isinstance(v, bool): \r\n",
        "        return v \r\n",
        "    if v.lower() in ('yes', 'true', 't', 'y', '1'): \r\n",
        "        return True \r\n",
        "    elif v.lower() in ('no', 'false', 'f', 'n', '0'): \r\n",
        "        return False \r\n",
        "    else: raise argparse.ArgumentTypeError('Boolean value expected.')\r\n",
        "\r\n"
      ],
      "execution_count": null,
      "outputs": []
    },
    {
      "cell_type": "code",
      "metadata": {
        "id": "VoiMXmQOOpqN"
      },
      "source": [
        "import argparse"
      ],
      "execution_count": null,
      "outputs": []
    },
    {
      "cell_type": "code",
      "metadata": {
        "id": "dFR00b0tOuW1"
      },
      "source": [
        "if __name__ == \"__main__\": \r\n",
        "    parser = argparse.ArgumentParser(description='test') \r\n",
        "    parser.add_argument('-b', '--boolean_flag', help='boolean flag', default=False, type=str2bool) \r\n",
        "    args = parser.parse_args()\r\n",
        "\r\n"
      ],
      "execution_count": null,
      "outputs": []
    }
  ]
}