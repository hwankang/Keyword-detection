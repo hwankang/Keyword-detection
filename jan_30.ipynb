{
  "nbformat": 4,
  "nbformat_minor": 0,
  "metadata": {
    "colab": {
      "name": "jan 30.ipynb",
      "private_outputs": true,
      "provenance": [],
      "authorship_tag": "ABX9TyOCl0sW7OaQP6lhbivngG7X",
      "include_colab_link": true
    },
    "kernelspec": {
      "name": "python3",
      "display_name": "Python 3"
    }
  },
  "cells": [
    {
      "cell_type": "markdown",
      "metadata": {
        "id": "view-in-github",
        "colab_type": "text"
      },
      "source": [
        "<a href=\"https://colab.research.google.com/github/hwankang/Keyword-detection/blob/master/jan_30.ipynb\" target=\"_parent\"><img src=\"https://colab.research.google.com/assets/colab-badge.svg\" alt=\"Open In Colab\"/></a>"
      ]
    },
    {
      "cell_type": "markdown",
      "metadata": {
        "id": "GrSOOrcpoO45"
      },
      "source": [
        "* https://eehoeskrap.tistory.com/521\r\n",
        "** 그러나 Colab, Jupyter Notebook과 같은 .ipynb 환경에선 argparse 라이브러리를 사용할 수 없습니다.\r\n",
        "\r\n",
        "         easydict 라이브러리를 활용하면 argsparse를 대신할 수 있습니다.\r\n",
        "[출처] [Python] Colab에서 argparse 사용하기|작성자 고랭이]\r\n",
        "* Hwan IL Kang Jan 30"
      ]
    },
    {
      "cell_type": "code",
      "metadata": {
        "id": "CPQvGjNWORnY"
      },
      "source": [
        "def str2bool(v): \r\n",
        "    if isinstance(v, bool): \r\n",
        "        return v \r\n",
        "    if v.lower() in ('yes', 'true', 't', 'y', '1'): \r\n",
        "        return True \r\n",
        "    elif v.lower() in ('no', 'false', 'f', 'n', '0'): \r\n",
        "        return False \r\n",
        "    else: raise argparse.ArgumentTypeError('Boolean value expected.')\r\n",
        "\r\n"
      ],
      "execution_count": null,
      "outputs": []
    },
    {
      "cell_type": "code",
      "metadata": {
        "id": "VoiMXmQOOpqN"
      },
      "source": [
        "import argparse"
      ],
      "execution_count": null,
      "outputs": []
    },
    {
      "cell_type": "code",
      "metadata": {
        "id": "dFR00b0tOuW1"
      },
      "source": [
        "if __name__ == \"__main__\": \r\n",
        "    parser = argparse.ArgumentParser(description='test') \r\n",
        "    parser.add_argument('-b', '--boolean_flag', help='boolean flag', default=False, type=str2bool) \r\n",
        "    args = parser.parse_args()\r\n",
        "\r\n"
      ],
      "execution_count": null,
      "outputs": []
    },
    {
      "cell_type": "code",
      "metadata": {
        "id": "Fbcv9iIz0S52"
      },
      "source": [
        "import easydict\r\n",
        "\r\n",
        "args = easydict.EasyDict({\r\n",
        "    \"filename\": \"/content/1089-134691-0000.flac\",\r\n",
        "    \"blocksize\": 4096,\r\n",
        "    \"buffersize\": 20,\r\n",
        "    \"tflite\": \"/content/latest-0.6.3-20epoch.tflite\"\r\n",
        "})\r\n",
        "#[출처] [Python] Colab에서 argparse 사용하기|작성자 고랭이"
      ],
      "execution_count": null,
      "outputs": []
    },
    {
      "cell_type": "code",
      "metadata": {
        "id": "o_-KTwH90YQI"
      },
      "source": [
        "print(\r\n",
        "    args.filename,\r\n",
        "    args.blocksize,\r\n",
        "    args.buffersize,\r\n",
        "    args.tflite\r\n",
        ")\r\n",
        "#[출처] [Python] Colab에서 argparse 사용하기|작성자 고랭이"
      ],
      "execution_count": null,
      "outputs": []
    },
    {
      "cell_type": "code",
      "metadata": {
        "id": "P9x-q-tg07FO"
      },
      "source": [
        "import argparse\r\n",
        "\r\n",
        "parser = argparse.ArgumentParser(prog=\"Conformer audio file streaming\")\r\n",
        "parser.add_argument('filename', metavar='FILENAME', help='audio file to be played back')\r\n",
        "parser.add_argument('-b', '--blocksize', type=int, default=4096, help='block size (default: %(default)s)')\r\n",
        "parser.add_argument('-q', '--buffersize', type=int, default=20, help='number of blocks used for buffering (default: %(default)s)')\r\n",
        "parser.add_argument(\"--tflite\", type=str, default=None, help=\"Path to conformer tflite\")\r\n",
        "\r\n",
        "args = parser.parse_args()\r\n",
        "#[출처] [Python] Colab에서 argparse 사용하기|작성자 고랭이"
      ],
      "execution_count": null,
      "outputs": []
    }
  ]
}